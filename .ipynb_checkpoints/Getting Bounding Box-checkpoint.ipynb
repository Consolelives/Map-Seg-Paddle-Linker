version https://git-lfs.github.com/spec/v1
oid sha256:40479961dbf9d7bbf43c79fb55aa69855ee1e7bbcd10b647cd9d624a2c136d95
size 412560
