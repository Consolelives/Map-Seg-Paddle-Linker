version https://git-lfs.github.com/spec/v1
oid sha256:3b8b27bda66ba37bc63fb04cd7b26f0292616e2a29635b0ad65b76543dc60a3b
size 665013
