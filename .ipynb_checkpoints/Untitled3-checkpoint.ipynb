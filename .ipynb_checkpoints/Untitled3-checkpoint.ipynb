version https://git-lfs.github.com/spec/v1
oid sha256:02454b0509a0617aea01dfabe3923337f6bb5e310a27d22ded56f53f0bbc9398
size 3094617
