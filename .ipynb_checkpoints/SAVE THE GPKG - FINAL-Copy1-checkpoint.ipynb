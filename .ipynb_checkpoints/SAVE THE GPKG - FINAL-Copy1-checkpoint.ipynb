version https://git-lfs.github.com/spec/v1
oid sha256:aa5ad97e05e19ebb0f75fc808e1a9db700c4a1e385480ea30571b25c30e2884d
size 62247
